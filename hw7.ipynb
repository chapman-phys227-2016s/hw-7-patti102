{
 "cells": [
  {
   "cell_type": "code",
   "execution_count": 29,
   "metadata": {
    "collapsed": false
   },
   "outputs": [],
   "source": [
    "import Lagrange_poly3 as lp3\n",
    "import Lagrange_poly4 as lp4\n",
    "import Polynomial as pn\n",
    "import Polynomial_vec as pv\n",
    "import Polynomial_dict as pd\n",
    "import numpy as np"
   ]
  },
  {
   "cell_type": "markdown",
   "metadata": {},
   "source": [
    "# Homework 7\n",
    "\n",
    "### Taylor Patti\n",
    "### 4/23/16"
   ]
  },
  {
   "cell_type": "markdown",
   "metadata": {},
   "source": [
    "### Lagrange_poly3\n",
    "\n",
    "The utility of interpolating functions was contained in a class which creates an instance with a given set of interpolating points. The functions of the class can both call for an interpolating point value and graph the actual points of the function with the interpolated function plotted over it."
   ]
  },
  {
   "cell_type": "code",
   "execution_count": 30,
   "metadata": {
    "collapsed": false
   },
   "outputs": [
    {
     "name": "stdout",
     "output_type": "stream",
     "text": [
      "Function interpolates:  0.924095869121\n",
      "Actual sine result is:  0.923879532511\n"
     ]
    }
   ],
   "source": [
    "xp = np.linspace(0, np.pi, 5)\n",
    "yp = np.sin(xp)\n",
    "middle = xp[2] - xp[1] / 2\n",
    "LagPol = lp3.LagrangePoly(xp, yp)\n",
    "print 'Function interpolates: ',\n",
    "print LagPol.p_L(middle)\n",
    "print 'Actual sine result is: ',\n",
    "print np.sin(middle)"
   ]
  },
  {
   "cell_type": "code",
   "execution_count": 31,
   "metadata": {
    "collapsed": false
   },
   "outputs": [
    {
     "data": {
      "image/png": "[encoded data removed]",
      "text/plain": [
       "<matplotlib.figure.Figure at 0x7fad75964bd0>"
      ]
     },
     "metadata": {},
     "output_type": "display_data"
    }
   ],
   "source": [
    "LagPol.graph(np.sin, 5, 0, np.pi)"
   ]
  },
  {
   "cell_type": "markdown",
   "metadata": {
    "collapsed": true
   },
   "source": [
    "### Lagrange_poly4\n",
    "\n",
    "This class is much like the other class above, with the sole acception that a python function, the min and max points, and the value of the number of points to be taken is passed in as an argument instead. It is thus within the initilization of the instance that the xp and yp vectors are generated for the instance at hand, and the remainder of the functions work in an analogous manner."
   ]
  },
  {
   "cell_type": "code",
   "execution_count": 32,
   "metadata": {
    "collapsed": false
   },
   "outputs": [
    {
     "name": "stdout",
     "output_type": "stream",
     "text": [
      "Function interpolates:  0.453990499411\n",
      "Actual sine result is:  0.45399049974\n"
     ]
    }
   ],
   "source": [
    "LagPol = lp4.LagrangePolyFunctions(np.sin)\n",
    "middle = LagPol.xp[2] - LagPol.xp[1] / 2\n",
    "print 'Function interpolates: ',\n",
    "print LagPol.p_L(middle)\n",
    "print 'Actual sine result is: ',\n",
    "print np.sin(middle)"
   ]
  },
  {
   "cell_type": "code",
   "execution_count": 33,
   "metadata": {
    "collapsed": false
   },
   "outputs": [
    {
     "data": {
      "image/png": "[encoded data removed]",
      "text/plain": [
       "<matplotlib.figure.Figure at 0x7fad75aef9d0>"
      ]
     },
     "metadata": {},
     "output_type": "display_data"
    }
   ],
   "source": [
    "LagPol.graph()"
   ]
  },
  {
   "cell_type": "markdown",
   "metadata": {
    "collapsed": true
   },
   "source": [
    "### Polynomial_vec\n",
    "\n",
    "This implementation vectorizes the polynomials class in order to provide for increased efficiency. The idea would be that vectorized functions would have increased speed over their iterative counterparts, at least for data structures of significant size. In what follows, the vectorized functions of the new module are compared for efficiency against the unvectorized iterative version, and the surprising result that the unverctorized version is actually more efficient in these cases results. It is possible that for very large polynomials this problem would be resolved, but as of yet the cause of this is unsure, although surely due to something the programer failed to do properly."
   ]
  },
  {
   "cell_type": "code",
   "execution_count": 34,
   "metadata": {
    "collapsed": false
   },
   "outputs": [
    {
     "name": "stdout",
     "output_type": "stream",
     "text": [
      "The slowest run took 9.48 times longer than the fastest. This could mean that an intermediate result is being cached \n",
      "1000000 loops, best of 3: 427 ns per loop\n"
     ]
    }
   ],
   "source": [
    "coefficients = [5, 5, 5, 5, 5, 5, 5, 5, 5, 5]\n",
    "%timeit normal = pn.Polynomial(coefficients)"
   ]
  },
  {
   "cell_type": "code",
   "execution_count": 35,
   "metadata": {
    "collapsed": false
   },
   "outputs": [
    {
     "name": "stdout",
     "output_type": "stream",
     "text": [
      "The slowest run took 6.16 times longer than the fastest. This could mean that an intermediate result is being cached \n",
      "100000 loops, best of 3: 3.1 µs per loop\n"
     ]
    }
   ],
   "source": [
    "%timeit vectorized = pv.Polynomial(coefficients)"
   ]
  },
  {
   "cell_type": "code",
   "execution_count": 36,
   "metadata": {
    "collapsed": false
   },
   "outputs": [
    {
     "name": "stdout",
     "output_type": "stream",
     "text": [
      "100000 loops, best of 3: 2.67 µs per loop\n"
     ]
    }
   ],
   "source": [
    "normal = pn.Polynomial(coefficients)\n",
    "%timeit normal.__add__(normal)"
   ]
  },
  {
   "cell_type": "code",
   "execution_count": 37,
   "metadata": {
    "collapsed": false
   },
   "outputs": [
    {
     "name": "stdout",
     "output_type": "stream",
     "text": [
      "The slowest run took 7.22 times longer than the fastest. This could mean that an intermediate result is being cached \n",
      "100000 loops, best of 3: 9.4 µs per loop\n"
     ]
    }
   ],
   "source": [
    "vectorized = pv.Polynomial(coefficients)\n",
    "%timeit vectorized.__add__(vectorized)"
   ]
  },
  {
   "cell_type": "code",
   "execution_count": 38,
   "metadata": {
    "collapsed": false
   },
   "outputs": [
    {
     "name": "stdout",
     "output_type": "stream",
     "text": [
      "10000 loops, best of 3: 55.1 µs per loop\n"
     ]
    }
   ],
   "source": [
    "%timeit normal.__mul__(normal)"
   ]
  },
  {
   "cell_type": "code",
   "execution_count": 39,
   "metadata": {
    "collapsed": false
   },
   "outputs": [
    {
     "name": "stdout",
     "output_type": "stream",
     "text": [
      "10000 loops, best of 3: 54.5 µs per loop\n"
     ]
    }
   ],
   "source": [
    "%timeit vectorized.__mul__(vectorized)"
   ]
  },
  {
   "cell_type": "code",
   "execution_count": 40,
   "metadata": {
    "collapsed": false
   },
   "outputs": [
    {
     "name": "stdout",
     "output_type": "stream",
     "text": [
      "100000 loops, best of 3: 2.38 µs per loop\n"
     ]
    }
   ],
   "source": [
    "%timeit normal.__call__(5)"
   ]
  },
  {
   "cell_type": "code",
   "execution_count": 41,
   "metadata": {
    "collapsed": false
   },
   "outputs": [
    {
     "name": "stdout",
     "output_type": "stream",
     "text": [
      "The slowest run took 12.50 times longer than the fastest. This could mean that an intermediate result is being cached \n",
      "100000 loops, best of 3: 3.76 µs per loop\n"
     ]
    }
   ],
   "source": [
    "%timeit vectorized.__call__(5)"
   ]
  },
  {
   "cell_type": "markdown",
   "metadata": {},
   "source": [
    "### Polynomial_dict\n",
    "\n",
    "A dictionary version of the polynomial function is also implemented. This means that the coefficients of the polynomial are stored in a python dictionary, which uses keys, the degree of the coefficient power, in order to call up values, which are the coefficients of the powers themselves. These implementations are always slower than their iterative counterparts and sometimes slower, sometimes faster than the vectorized implementation. Assuming that ideally vectorized code would be the fastest implementation, a disadvantage of the dictionary class would be its efficiency. Benefits of the dictionary would be easily readable and adjustable code, as the addition of new keys or alteration of values in a dictionary is a very simple and straight forward proceedure. Moreover, dictionaries are user friendly in many other respects, such as their simple double equal sign test for equality."
   ]
  },
  {
   "cell_type": "code",
   "execution_count": 42,
   "metadata": {
    "collapsed": false
   },
   "outputs": [
    {
     "name": "stdout",
     "output_type": "stream",
     "text": [
      "The slowest run took 8.62 times longer than the fastest. This could mean that an intermediate result is being cached \n",
      "1000000 loops, best of 3: 1.16 µs per loop\n"
     ]
    }
   ],
   "source": [
    "%timeit pd.Polynomial({0:5, 1:5, 2:5, 3:5, 4:5, 5:5, 6:5, 7:5, 8:5, 9:5, 10:5})"
   ]
  },
  {
   "cell_type": "code",
   "execution_count": 43,
   "metadata": {
    "collapsed": false
   },
   "outputs": [
    {
     "name": "stdout",
     "output_type": "stream",
     "text": [
      "10000 loops, best of 3: 24.1 µs per loop\n"
     ]
    }
   ],
   "source": [
    "dictionary = pd.Polynomial({0:5, 1:5, 2:5, 3:5, 4:5, 5:5, 6:5, 7:5, 8:5, 9:5, 10:5})\n",
    "%timeit dictionary.__add__(dictionary)"
   ]
  },
  {
   "cell_type": "code",
   "execution_count": 44,
   "metadata": {
    "collapsed": false
   },
   "outputs": [
    {
     "name": "stdout",
     "output_type": "stream",
     "text": [
      "10000 loops, best of 3: 39 µs per loop\n"
     ]
    }
   ],
   "source": [
    "%timeit dictionary.__mul__(dictionary)"
   ]
  },
  {
   "cell_type": "code",
   "execution_count": null,
   "metadata": {
    "collapsed": true
   },
   "outputs": [],
   "source": []
  }
 ],
 "metadata": {
  "kernelspec": {
   "display_name": "Python 2 (SageMath)",
   "language": "python",
   "name": "python2"
  },
  "language_info": {
   "codemirror_mode": {
    "name": "ipython",
    "version": 2
   },
   "file_extension": ".py",
   "mimetype": "text/x-python",
   "name": "python",
   "nbconvert_exporter": "python",
   "pygments_lexer": "ipython2",
   "version": "2.7.10"
  }
 },
 "nbformat": 4,
 "nbformat_minor": 0
}
